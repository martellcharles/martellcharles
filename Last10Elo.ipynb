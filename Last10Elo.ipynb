{
 "cells": [
  {
   "cell_type": "code",
   "execution_count": 1,
   "id": "4c625692",
   "metadata": {},
   "outputs": [],
   "source": [
    "import pandas as pd\n",
    "import numpy as np\n",
    "pd.set_option(\"display.max_columns\", None)"
   ]
  },
  {
   "cell_type": "code",
   "execution_count": 2,
   "id": "35cc46d1",
   "metadata": {},
   "outputs": [],
   "source": [
    "avgs = pd.read_csv(r'C:\\Users\\marte\\OneDrive\\Documents\\Projects!\\NBA Model\\averagesFinal.csv')"
   ]
  },
  {
   "cell_type": "code",
   "execution_count": 5,
   "id": "1c4e9e6a",
   "metadata": {},
   "outputs": [],
   "source": [
    "#avgs.drop(['WinLast10','EloLast10','XXWinLast10','XXEloLast10'],axis=1,inplace=True)"
   ]
  },
  {
   "cell_type": "code",
   "execution_count": 6,
   "id": "8a8ef259",
   "metadata": {},
   "outputs": [],
   "source": [
    "def last10Change(df, colNumber):\n",
    "    listOfTeams = list(np.unique(df['Team']))\n",
    "    listOfSeason = list(np.unique(df['Season']))\n",
    "    newList = []\n",
    "    \n",
    "    if colNumber > 125:\n",
    "        teamCol = 127\n",
    "        otherTeamCol = 4\n",
    "        otherValueCol = colNumber-123\n",
    "    else:\n",
    "        teamCol = 4\n",
    "        otherTeamCol = 127\n",
    "        otherValueCol = colNumber+123\n",
    "    \n",
    "    for i in listOfSeason:\n",
    "        seasonDf = df.loc[df['Season']==i,:]\n",
    "        theDict = {}\n",
    "        for j in listOfTeams:\n",
    "            theDict.update({j:[]})\n",
    "        for index, item in enumerate(list(seasonDf.iloc[:,colNumber])):\n",
    "            teamList = theDict.get(seasonDf.iloc[index,teamCol])\n",
    "            teamList.append(item)\n",
    "            otherTeamList = theDict.get(seasonDf.iloc[index,otherTeamCol])\n",
    "            otherTeamList.append(seasonDf.iloc[index,otherValueCol])\n",
    "            if len(teamList) < 11:\n",
    "                theDict.update({seasonDf.iloc[index,teamCol]:teamList})\n",
    "                theDict.update({seasonDf.iloc[index,otherTeamCol]:otherTeamList})\n",
    "                newList.append((theDict.get(seasonDf.iloc[index,teamCol])[-1])-(theDict.get(seasonDf.iloc[index,teamCol])[0]))\n",
    "            else:\n",
    "                theDict.update({seasonDf.iloc[index,teamCol]:teamList})\n",
    "                theDict.update({seasonDf.iloc[index,otherTeamCol]:otherTeamList})\n",
    "                newList.append((theDict.get(seasonDf.iloc[index,teamCol])[-1])-(theDict.get(seasonDf.iloc[index,teamCol])[-11]))\n",
    "                \n",
    "    return newList"
   ]
  },
  {
   "cell_type": "code",
   "execution_count": 7,
   "id": "11573c35",
   "metadata": {},
   "outputs": [],
   "source": [
    "last10EloChangeHome = last10Change(avgs,6)\n",
    "last10EloChangeAway = last10Change(avgs,129)\n",
    "last10WinChangeHome = last10Change(avgs,5)\n",
    "last10WinChangeAway = last10Change(avgs,128)"
   ]
  },
  {
   "cell_type": "code",
   "execution_count": 8,
   "id": "97b3367d",
   "metadata": {},
   "outputs": [
    {
     "name": "stdout",
     "output_type": "stream",
     "text": [
      "26334 26334 26334 26334\n"
     ]
    }
   ],
   "source": [
    "print(len(last10EloChangeHome),len(last10EloChangeAway),len(last10WinChangeHome),len(last10WinChangeAway))"
   ]
  },
  {
   "cell_type": "code",
   "execution_count": 9,
   "id": "94b921ee",
   "metadata": {},
   "outputs": [],
   "source": [
    "avgs.insert(loc=130,column='XXEloLast10',value=last10EloChangeAway)\n",
    "avgs.insert(loc=129,column='XXWinLast10',value=last10WinChangeAway)\n",
    "avgs.insert(loc=7,column='EloLast10',value=last10EloChangeHome)\n",
    "avgs.insert(loc=6,column='WinLast10',value=last10WinChangeHome)"
   ]
  },
  {
   "cell_type": "code",
   "execution_count": 105,
   "id": "cda68ae4",
   "metadata": {},
   "outputs": [],
   "source": [
    "avgs.to_csv(r'C:\\Users\\marte\\OneDrive\\Documents\\Projects!\\NBA Model\\averagesFinal.csv', index=False)"
   ]
  }
 ],
 "metadata": {
  "kernelspec": {
   "display_name": "Python 3",
   "language": "python",
   "name": "python3"
  },
  "language_info": {
   "codemirror_mode": {
    "name": "ipython",
    "version": 3
   },
   "file_extension": ".py",
   "mimetype": "text/x-python",
   "name": "python",
   "nbconvert_exporter": "python",
   "pygments_lexer": "ipython3",
   "version": "3.8.8"
  }
 },
 "nbformat": 4,
 "nbformat_minor": 5
}
