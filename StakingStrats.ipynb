{
 "cells": [
  {
   "cell_type": "markdown",
   "id": "e520cb0d",
   "metadata": {},
   "source": [
    "This page aims to find the best method for maximizing profit with our best model\n",
    "That can be broken down as finding the best staking strategy\n",
    "Some strategies include:\n",
    "\n",
    "1) Betting the same amount of money on the model prediction for every single game\n",
    "2) Betting the same amount of money on the model prediction for select games based on a formula (ev, others)\n",
    "3) Changing the betting amount to win the same amount of money for each bet for every single game\n",
    "4) Changing the betting amount to win the same amount of money for each bet for select games (ev, others)\n",
    "5) Betting an amount of money that depends on a formula (kelly strategy) for every game\n",
    "6) Betting an amount of money that depends on a formula (kelly strategy) for select games (ev, others)\n",
    "\n",
    "We will have to test this on the 2022 season data\n",
    "This means we will have to take the prediction of every game, the odds of every game, and the actual result of every game\n",
    "That amounts to taking the gameID of the selected predictions, 'betting' a certain amount, and checking the result\n",
    "One possibility is to put each of these in a dictionary\n",
    "If the prediction is correct, calculate the amount won, if lost, then the amount will be the wager\n",
    "Create in the df or a list the amount won/lost for each game, and display it visually\n",
    "\n",
    "The data must take the following forms:\n",
    "predictions = {GameID1: prediction, GameID2: prediction, GameID3: prediction,...}\n",
    "results = {GameID1: result, GameID2: result, GameID3: result,...}\n",
    "odds = {GameID1: odds, GameID2: odds, GameID3: odds,...}\n",
    "wager = 0 implies betting varying amounts such that the payout is 100\n",
    "wager = -1 implies betting varying amount depending on the kelly staking strategy that varies with bankroll"
   ]
  },
  {
   "cell_type": "code",
   "execution_count": 87,
   "id": "e556a634",
   "metadata": {},
   "outputs": [],
   "source": [
    "import matplotlib.pyplot as plt\n",
    "from statistics import mean\n",
    "import numpy as np\n",
    "import itertools as itr"
   ]
  },
  {
   "cell_type": "code",
   "execution_count": 160,
   "id": "c4a44d72",
   "metadata": {},
   "outputs": [],
   "source": [
    "predictions = {'1HOUCHI': 0, '2HOUCHA': 0, '3CHICHA':1, '3CHILAL': 1}\n",
    "odds = {'1HOUCHI': -200, '2HOUCHA': 100, '3CHICHA':250, '3CHILAL': 150}\n",
    "results = {'1HOUCHI': 0, '2HOUCHA':1, '3CHICHA':1, '3CHILAL': 1}"
   ]
  },
  {
   "cell_type": "code",
   "execution_count": null,
   "id": "e8ac9f0a",
   "metadata": {},
   "outputs": [],
   "source": [
    "# this function will determine which games we should bet on based on implied odds\n"
   ]
  },
  {
   "cell_type": "code",
   "execution_count": 141,
   "id": "330ecd6a",
   "metadata": {},
   "outputs": [
    {
     "data": {
      "text/plain": [
       "-6.25"
      ]
     },
     "execution_count": 141,
     "metadata": {},
     "output_type": "execute_result"
    }
   ],
   "source": [
    "# this function will determine which games we should bet on based on expected value\n",
    "def calculateEV(teamOdds, oppOdds, wager):\n",
    "    \n",
    "    if teamOdds < 0:\n",
    "        teamImpliedProbability = abs(teamOdds)/(abs(teamOdds)+100)\n",
    "        teamPayout = 100/abs(teamOdds)*wager\n",
    "    else:\n",
    "        teamImpliedProbability = 100/(teamOdds+100)\n",
    "        teamPayout = teamOdds/100*wager\n",
    "    \n",
    "    if oppOdds < 0:\n",
    "        oppImpliedProbability = abs(oppOdds)/(abs(oppOdds)+100)\n",
    "    else:\n",
    "        oppImpliedProbability = 100/(oppOdds+100)\n",
    "        \n",
    "    teamFairOdds = teamImpliedProbability/(teamImpliedProbability+oppImpliedProbability)\n",
    "    teamEV = round((teamPayout*teamFairOdds) - (wager*(1-teamFairOdds)),2)\n",
    "    \n",
    "    return teamEV\n",
    "calculateEV(-200, 150, 100)"
   ]
  },
  {
   "cell_type": "code",
   "execution_count": null,
   "id": "9556792e",
   "metadata": {},
   "outputs": [],
   "source": [
    "def calculateEv(odds, wager):\n",
    "    if odd<0:\n",
    "        impliedProbability = abs(odd)/(abs(odd)+100)\n",
    "        potentialWinnings = 10/abs(odd/100)\n",
    "    else:\n",
    "        impliedProbability = od/(odd+100)\n",
    "        potentialWinnings = odd\n",
    "    print(impliedProbability)\n",
    "    \n",
    "    "
   ]
  },
  {
   "cell_type": "code",
   "execution_count": 165,
   "id": "ca6cb5ea",
   "metadata": {},
   "outputs": [],
   "source": [
    "# function which will return a dictionary of dates as keys, and the total profits as values\n",
    "\n",
    "def addValues(theDict, key, value):\n",
    "    if key in theDict:\n",
    "        if not isinstance(theDict[key], list):\n",
    "            theDict[key] = [theDict[key]]\n",
    "            theDict[key].append(value)\n",
    "            \n",
    "def getPayout(pr, re, odds, wager, addValues, bankroll=0):\n",
    "    totalPayout = {}\n",
    "    totalWager = []\n",
    "    gameIds = list(pr.keys())    \n",
    "    theWager=wager\n",
    "    \n",
    "    # looping through every gameId\n",
    "    for i in pr:\n",
    "        prediction = pr.get(i)\n",
    "        result = re.get(i)\n",
    "        odd = odds.get(i)\n",
    "        \n",
    "        # checks to see the type of wager we want to use\n",
    "        if theWager == 0:\n",
    "            if odd<0:\n",
    "                wager = abs(odd)\n",
    "            else:\n",
    "                wager=(1000/odd)*10\n",
    "        \n",
    "        # this block will calculate wager if using kelly staking strategy based on bankroll input\n",
    "        if theWager == -1:\n",
    "            if odd<0:\n",
    "                decimalOdds = (100/abs(odd))+1\n",
    "                impliedProbability = abs(odd)/(abs(odd)+100)\n",
    "                potentialWinnings = 100/abs(odd/100)/10\n",
    "            else:\n",
    "                decimalOdds = (odd/100)+1\n",
    "                impliedProbability = 100/(odd+100)\n",
    "                potentialWinnings = odd/10\n",
    "            print(decimalOdds)\n",
    "            percentBankroll = (decimalOdds*impliedProbability - (1-impliedProbability))/decimalOdds\n",
    "            \n",
    "            # this statement sets a cap on the % of bankroll\n",
    "            #if percentBankroll > 0.05:\n",
    "                #percentBankroll = 0.05\n",
    "            wager = percentBankroll * bankroll\n",
    "            \n",
    "            print('Implied probability: ' + str(round(impliedProbability,4)))\n",
    "            print('Potential winnings: ' + str(round(potentialWinnings, 4)))\n",
    "            print('Percent bankroll: ' + str(round(percentBankroll,4)))\n",
    "            print('Wager: ' + str(round(wager,4)))\n",
    "            print('--------------------------------')\n",
    "            \n",
    "            \n",
    "        totalWager.append(wager)\n",
    "        # this statement calculates the payout based on wager\n",
    "        if prediction == result:\n",
    "            if odd < 0:\n",
    "                payout = wager/abs(odd/100)\n",
    "            else:\n",
    "                payout = wager*(odd/100)\n",
    "        else:\n",
    "            payout = -1 * wager\n",
    "            \n",
    "        # this statement groups the profits by date into lists\n",
    "        j=i[:-6]\n",
    "        if j not in totalPayout:\n",
    "            totalPayout.update({j:payout})\n",
    "        else:\n",
    "            addValues(totalPayout, j, payout)\n",
    "            \n",
    "    return [totalPayout, totalWager]"
   ]
  },
  {
   "cell_type": "code",
   "execution_count": 120,
   "id": "44864f02",
   "metadata": {},
   "outputs": [],
   "source": [
    "# function will create a line graph with per day profit and cumulative profit\n",
    "\n",
    "def letsVisualize(getPayout, pr,re,odds,wager,addValues,bankroll=0):\n",
    "    getPay = getPayout(pr,re,odds,wager,addValues,bankroll)\n",
    "    theDict = getPay[0]\n",
    "    totalWagers = getPay[1]\n",
    "    date = list(pr.keys())\n",
    "    sums = []\n",
    "    sum2 = []\n",
    "    profitPerGame = []\n",
    "    dates = []\n",
    "    \n",
    "    # creating list of dates\n",
    "    for i in date:\n",
    "        j = i[:-6]\n",
    "        dates.append(j)\n",
    "    dates = np.unique(dates)\n",
    "    \n",
    "    # looping through dates and calculating sums\n",
    "    for i in theDict:\n",
    "        if type(theDict.get(i)) == list:\n",
    "            sums.append(sum(theDict.get(i)))\n",
    "            for i in theDict.get(i):\n",
    "                profitPerGame.append(i)\n",
    "        else:\n",
    "            sums.append(theDict.get(i))\n",
    "            profitPerGame.append(theDict.get(i))\n",
    "    sum2 = list(itr.accumulate(sums, lambda a, b: a+b))\n",
    "    \n",
    "    # plotting the data\n",
    "    plt.plot(dates,sums)\n",
    "    plt.plot(dates,sum2)\n",
    "    plt.title('Profit per day')\n",
    "    plt.xlabel('Date')\n",
    "    plt.ylabel('Profit')\n",
    "    plt.legend([\"per day\", 'cumulative'], loc =\"lower right\")\n",
    "    plt.show()\n",
    "    \n",
    "    totalProfit = round(sum2[-1],2)\n",
    "    averageProfit = round(mean(profitPerGame),2)\n",
    "    totalWager = round(sum(totalWagers),2)\n",
    "    averageWager = round(mean(totalWagers),2)\n",
    "    \n",
    "    print('Your total profit is: $'+str(totalProfit))\n",
    "    print('Your average profit per game is: $'+str(averageProfit))\n",
    "    print('Your total wager is: $'+str(totalWager))\n",
    "    print('Your average wager per game is: $'+str(averageWager))\n"
   ]
  },
  {
   "cell_type": "code",
   "execution_count": 103,
   "id": "ea636814",
   "metadata": {},
   "outputs": [
    {
     "data": {
      "image/png": "[encoded data removed]",
      "text/plain": [
       "<Figure size 432x288 with 1 Axes>"
      ]
     },
     "metadata": {
      "needs_background": "light"
     },
     "output_type": "display_data"
    },
    {
     "name": "stdout",
     "output_type": "stream",
     "text": [
      "Your total profit is: $350.0\n",
      "Your average profit per game is: $87.5\n",
      "Your total wager is: $400\n",
      "Your average wager per game is: $100\n"
     ]
    }
   ],
   "source": [
    "# STRATEGY 1\n",
    "# Take the model predictions for every game in a given day and bet the same amount on each game\n",
    "wager=100\n",
    "letsVisualize(getPayout,predictions,results,odds,wager,addValues)"
   ]
  },
  {
   "cell_type": "code",
   "execution_count": null,
   "id": "d90507c7",
   "metadata": {},
   "outputs": [],
   "source": [
    "# STRATEGY 2\n",
    "# Take the model predictions for a select number of games in a given day and bet the same amount on each\n"
   ]
  },
  {
   "cell_type": "code",
   "execution_count": 104,
   "id": "d039efea",
   "metadata": {},
   "outputs": [
    {
     "data": {
      "image/png": "[encoded data removed]",
      "text/plain": [
       "<Figure size 432x288 with 1 Axes>"
      ]
     },
     "metadata": {
      "needs_background": "light"
     },
     "output_type": "display_data"
    },
    {
     "name": "stdout",
     "output_type": "stream",
     "text": [
      "Your total profit is: $200.0\n",
      "Your average profit per game is: $50.0\n",
      "Your total wager is: $406.67\n",
      "Your average wager per game is: $101.67\n"
     ]
    }
   ],
   "source": [
    "# STRATEGY 3\n",
    "# This strategy will bet a varying amount on every game predicted such that the payout is $100\n",
    "wager=0\n",
    "letsVisualize(getPayout,predictions,results,odds,wager,addValues)"
   ]
  },
  {
   "cell_type": "code",
   "execution_count": null,
   "id": "b305f153",
   "metadata": {},
   "outputs": [],
   "source": [
    "# STRATEGY 4\n",
    "# This strategy will bet a varying amount such that the payout is $100 for a select number of games\n"
   ]
  },
  {
   "cell_type": "code",
   "execution_count": 166,
   "id": "ae0c96ee",
   "metadata": {},
   "outputs": [
    {
     "name": "stdout",
     "output_type": "stream",
     "text": [
      "1.5\n",
      "Implied probability: 0.6667\n",
      "Potential winnings: 5.0\n",
      "Percent bankroll: 0.4444\n",
      "Wager: 444.4444\n",
      "--------------------------------\n",
      "2.0\n",
      "Implied probability: 0.5\n",
      "Potential winnings: 10.0\n",
      "Percent bankroll: 0.25\n",
      "Wager: 250.0\n",
      "--------------------------------\n",
      "3.5\n",
      "Implied probability: 0.2857\n",
      "Potential winnings: 25.0\n",
      "Percent bankroll: 0.0816\n",
      "Wager: 81.6327\n",
      "--------------------------------\n",
      "2.5\n",
      "Implied probability: 0.4\n",
      "Potential winnings: 15.0\n",
      "Percent bankroll: 0.16\n",
      "Wager: 160.0\n",
      "--------------------------------\n"
     ]
    },
    {
     "data": {
      "image/png": "[encoded data removed]",
      "text/plain": [
       "<Figure size 432x288 with 1 Axes>"
      ]
     },
     "metadata": {
      "needs_background": "light"
     },
     "output_type": "display_data"
    },
    {
     "name": "stdout",
     "output_type": "stream",
     "text": [
      "Your total profit is: $416.3\n",
      "Your average profit per game is: $104.08\n",
      "Your total wager is: $936.08\n",
      "Your average wager per game is: $234.02\n"
     ]
    }
   ],
   "source": [
    "# STRATEGY 5\n",
    "# This strategy will bet a varying amount depending on a formula for every game\n",
    "wager=-1\n",
    "letsVisualize(getPayout,predictions,results,odds,wager,addValues,1000)"
   ]
  },
  {
   "cell_type": "code",
   "execution_count": null,
   "id": "8da86c1e",
   "metadata": {},
   "outputs": [],
   "source": [
    "# STRATEGY 6\n",
    "# This strategy will bet a varying amount depending on a formula for a select number of games\n"
   ]
  }
 ],
 "metadata": {
  "kernelspec": {
   "display_name": "Python 3",
   "language": "python",
   "name": "python3"
  },
  "language_info": {
   "codemirror_mode": {
    "name": "ipython",
    "version": 3
   },
   "file_extension": ".py",
   "mimetype": "text/x-python",
   "name": "python",
   "nbconvert_exporter": "python",
   "pygments_lexer": "ipython3",
   "version": "3.8.8"
  }
 },
 "nbformat": 4,
 "nbformat_minor": 5
}
